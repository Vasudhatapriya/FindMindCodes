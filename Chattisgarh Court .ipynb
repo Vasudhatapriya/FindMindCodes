{
 "cells": [
  {
   "cell_type": "code",
   "execution_count": 5,
   "metadata": {},
   "outputs": [],
   "source": [
    "import cv2\n",
    "from selenium import webdriver\n",
    "from selenium.webdriver.common.by import By\n",
    "from selenium.webdriver.support.ui import Select\n",
    "from bs4 import BeautifulSoup\n",
    "# import datetime\n",
    "import time\n",
    "import os\n",
    "\n",
    "\n",
    "# Specify the path where chromedriver is installed\n",
    "chrome_path = r\"C:\\Users\\Vashudha Tapriya\\Desktop\\chromedriver_win32\\chromedriver.exe\"\n",
    "\n",
    "#website that has to be scraped\n",
    "driver = webdriver.Chrome(chrome_path)\n",
    "driver.get(\"http://highcourt.cg.gov.in/hcbspjudgement/query/jud_status.php?chopt=J%20%3E%20Judgement%20Date\")\n",
    "\n",
    "\n",
    "#starting date automation selection\n",
    "date = driver.find_element(By.XPATH,'/html/body/form/table[2]/tbody/tr/td[1]/a[4]/font/b')\n",
    "date.click()\n",
    "time.sleep(2)\n",
    "\n",
    "\n",
    "#selecting the start date\n",
    "fromdate=driver.find_element(By.XPATH,'/html/body/form/table[2]/tbody/tr/td[2]/table[5]/tbody/tr/td[2]/input')\n",
    "fromdate.send_keys(\"01/01/2010\")\n",
    "time.sleep(2)\n",
    "\n",
    "#selecting the end date \n",
    "edate=driver.find_element(By.XPATH,'/html/body/form/table[2]/tbody/tr/td[2]/table[5]/tbody/tr/td[4]/input')\n",
    "edate.send_keys(\"31/12/2020\")\n",
    "time.sleep(2)\n",
    "\n",
    "#selecting the dynamic captcha image \n",
    "#harsh will tell\n",
    "\n",
    "#selecting go\n",
    "go=driver.find_element(By.XPATH,'/html/body/form/table[2]/tbody/tr/td[2]/table[5]/tbody/tr/td[5]/input')\n",
    "go.click()\n"
   ]
  },
  {
   "cell_type": "code",
   "execution_count": null,
   "metadata": {},
   "outputs": [],
   "source": []
  }
 ],
 "metadata": {
  "kernelspec": {
   "display_name": "Python 3",
   "language": "python",
   "name": "python3"
  },
  "language_info": {
   "codemirror_mode": {
    "name": "ipython",
    "version": 3
   },
   "file_extension": ".py",
   "mimetype": "text/x-python",
   "name": "python",
   "nbconvert_exporter": "python",
   "pygments_lexer": "ipython3",
   "version": "3.8.0"
  }
 },
 "nbformat": 4,
 "nbformat_minor": 4
}
